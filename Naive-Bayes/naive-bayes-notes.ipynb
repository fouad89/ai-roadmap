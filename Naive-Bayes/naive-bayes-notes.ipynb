{
 "metadata": {
  "language_info": {
   "codemirror_mode": {
    "name": "ipython",
    "version": 3
   },
   "file_extension": ".py",
   "mimetype": "text/x-python",
   "name": "python",
   "nbconvert_exporter": "python",
   "pygments_lexer": "ipython3",
   "version": "3.7.6"
  },
  "orig_nbformat": 4,
  "kernelspec": {
   "name": "python3",
   "display_name": "Python 3.7.6 64-bit ('base': conda)"
  },
  "interpreter": {
   "hash": "016f416f43c7de9d71e7f049375c6b8b903fae571cb02d2ed6c16dadea121115"
  }
 },
 "nbformat": 4,
 "nbformat_minor": 2,
 "cells": [
  {
   "source": [
    "# Supervised Learning - Naive Bayes"
   ],
   "cell_type": "markdown",
   "metadata": {}
  },
  {
   "source": [
    "## Formula:\n",
    "$$P(A|B) = \\frac{P(B|A) P(A)}{P(B)}$$\n",
    "\n",
    "## Example: Spam filters\n",
    "## $P(Spam | email) = P(Spam | \\vec{w}) = \\frac{P(spam) \\cdot P(\\vec{w} | Spam)}{P(spam)\\:\\cdot \\: P(\\vec{w}|Spam)\\:\\cdot \\: P(not \\:Spam)\\: \\cdot \\: P(\\vec{w} | not \\:spam)}$\n",
    "\n",
    "### Terminolgy\n",
    "Priors --> P(spam)  \n",
    "Likelihood --> P(spam | $\\vec{w}$) and other | terms \n",
    "Evidence --> The lower term of the formula $P(spam)\\:\\cdot \\: P(\\vec{w}|Spam)\\:\\cdot \\: P(not \\:Spam)\\: \\cdot \\: P(\\vec{w} | not \\:spam)$"
   ],
   "cell_type": "markdown",
   "metadata": {}
  },
  {
   "source": [
    "## Preprocessing (aka Featurizing)\n",
    "<ol>\n",
    "    <li>Tokenization: splitting the words </li>\n",
    "    <li>Stop words removal</li>\n",
    "    <li>Remove non-alphabetical charachters.</li>\n",
    "    <li>Stemming: keeping the root of the word but stripping things like ing, ed etc. More for large data</li>\n",
    "    <li>Lemmatization: Alternative to stemming by assinging to the same root. more taxing of resources than stemming</li>\n",
    "    <li>Lowercasing: could be bad in cases where the name turns into a verb like \"Mark\" and \"mark\"</li>\n",
    "\n",
    "</ol>"
   ],
   "cell_type": "markdown",
   "metadata": {}
  },
  {
   "source": [
    "## There are 2 phases in the Classifer workflow:\n",
    "<ol>\n",
    "    <li>Learning phase: splitting the data into training and testing data</li>\n",
    "    <li>Evaluation phase: testing the classifier performance using key metrics:\n",
    "        <ol>\n",
    "            <li>Accuracy: </li>\n",
    "            <li>Precision: </li>\n",
    "            <li>Recall: </li>\n",
    "        </ol>\n",
    "    </li>\n",
    "</ol>"
   ],
   "cell_type": "markdown",
   "metadata": {}
  },
  {
   "source": [
    "## Building Naive Bayes Classifer"
   ],
   "cell_type": "markdown",
   "metadata": {}
  },
  {
   "cell_type": "code",
   "execution_count": 2,
   "metadata": {},
   "outputs": [
    {
     "output_type": "stream",
     "name": "stderr",
     "text": [
      "/Users/spydermac/opt/anaconda3/lib/python3.7/importlib/_bootstrap.py:219: RuntimeWarning: numpy.ufunc size changed, may indicate binary incompatibility. Expected 192 from C header, got 216 from PyObject\n  return f(*args, **kwds)\n"
     ]
    }
   ],
   "source": [
    "# library imports\n",
    "import numpy as np \n",
    "import pandas as pd \n",
    "from sklearn.naive_bayes import GaussianNB\n",
    "\n"
   ]
  },
  {
   "source": [
    "## Exploratory Data Analysis"
   ],
   "cell_type": "markdown",
   "metadata": {}
  },
  {
   "cell_type": "code",
   "execution_count": 44,
   "metadata": {},
   "outputs": [],
   "source": [
    "# reading data\n",
    "df = pd.read_csv(\"data/spam.csv\",encoding = \"ISO-8859-1\")\n",
    "df = df[[\"v1\", \"v2\"]]"
   ]
  },
  {
   "cell_type": "code",
   "execution_count": 45,
   "metadata": {},
   "outputs": [
    {
     "output_type": "execute_result",
     "data": {
      "text/plain": [
       "        v1                                                 v2\n",
       "0      ham  Go until jurong point, crazy.. Available only ...\n",
       "1      ham                      Ok lar... Joking wif u oni...\n",
       "2     spam  Free entry in 2 a wkly comp to win FA Cup fina...\n",
       "3      ham  U dun say so early hor... U c already then say...\n",
       "4      ham  Nah I don't think he goes to usf, he lives aro...\n",
       "...    ...                                                ...\n",
       "5567  spam  This is the 2nd time we have tried 2 contact u...\n",
       "5568   ham              Will Ì_ b going to esplanade fr home?\n",
       "5569   ham  Pity, * was in mood for that. So...any other s...\n",
       "5570   ham  The guy did some bitching but I acted like i'd...\n",
       "5571   ham                         Rofl. Its true to its name\n",
       "\n",
       "[5572 rows x 2 columns]"
      ],
      "text/html": "<div>\n<style scoped>\n    .dataframe tbody tr th:only-of-type {\n        vertical-align: middle;\n    }\n\n    .dataframe tbody tr th {\n        vertical-align: top;\n    }\n\n    .dataframe thead th {\n        text-align: right;\n    }\n</style>\n<table border=\"1\" class=\"dataframe\">\n  <thead>\n    <tr style=\"text-align: right;\">\n      <th></th>\n      <th>v1</th>\n      <th>v2</th>\n    </tr>\n  </thead>\n  <tbody>\n    <tr>\n      <th>0</th>\n      <td>ham</td>\n      <td>Go until jurong point, crazy.. Available only ...</td>\n    </tr>\n    <tr>\n      <th>1</th>\n      <td>ham</td>\n      <td>Ok lar... Joking wif u oni...</td>\n    </tr>\n    <tr>\n      <th>2</th>\n      <td>spam</td>\n      <td>Free entry in 2 a wkly comp to win FA Cup fina...</td>\n    </tr>\n    <tr>\n      <th>3</th>\n      <td>ham</td>\n      <td>U dun say so early hor... U c already then say...</td>\n    </tr>\n    <tr>\n      <th>4</th>\n      <td>ham</td>\n      <td>Nah I don't think he goes to usf, he lives aro...</td>\n    </tr>\n    <tr>\n      <th>...</th>\n      <td>...</td>\n      <td>...</td>\n    </tr>\n    <tr>\n      <th>5567</th>\n      <td>spam</td>\n      <td>This is the 2nd time we have tried 2 contact u...</td>\n    </tr>\n    <tr>\n      <th>5568</th>\n      <td>ham</td>\n      <td>Will Ì_ b going to esplanade fr home?</td>\n    </tr>\n    <tr>\n      <th>5569</th>\n      <td>ham</td>\n      <td>Pity, * was in mood for that. So...any other s...</td>\n    </tr>\n    <tr>\n      <th>5570</th>\n      <td>ham</td>\n      <td>The guy did some bitching but I acted like i'd...</td>\n    </tr>\n    <tr>\n      <th>5571</th>\n      <td>ham</td>\n      <td>Rofl. Its true to its name</td>\n    </tr>\n  </tbody>\n</table>\n<p>5572 rows × 2 columns</p>\n</div>"
     },
     "metadata": {},
     "execution_count": 45
    }
   ],
   "source": [
    "df"
   ]
  },
  {
   "cell_type": "code",
   "execution_count": 46,
   "metadata": {},
   "outputs": [
    {
     "output_type": "stream",
     "name": "stdout",
     "text": [
      "<class 'pandas.core.frame.DataFrame'>\nRangeIndex: 5572 entries, 0 to 5571\nData columns (total 2 columns):\n #   Column  Non-Null Count  Dtype \n---  ------  --------------  ----- \n 0   v1      5572 non-null   object\n 1   v2      5572 non-null   object\ndtypes: object(2)\nmemory usage: 87.2+ KB\n"
     ]
    }
   ],
   "source": [
    "df.info()"
   ]
  },
  {
   "cell_type": "code",
   "execution_count": 47,
   "metadata": {},
   "outputs": [
    {
     "output_type": "stream",
     "name": "stdout",
     "text": [
      "Number of Unique Values: \n ham     4825\nspam     747\nName: v1, dtype: int64 \n\n\nValue Percentage: \n ham     86.593683\nspam    13.406317\nName: v1, dtype: float64\n"
     ]
    }
   ],
   "source": [
    "# checking unique values on v1\n",
    "print(\"Number of Unique Values: \\n\", df['v1'].value_counts(),'\\n\\n')\n",
    "\n",
    "# value percentage\n",
    "print(\"Value Percentage: \\n\",df['v1'].value_counts() * 100 / len(df['v1']))"
   ]
  },
  {
   "source": [
    "## Preprocessing\n",
    "\n",
    "<ol>\n",
    "    <li>Tokenization: splitting the words </li>\n",
    "    <li>Stop words removal</li>\n",
    "    <li>Remove non-alphabetical charachters.</li>\n",
    "    <li>Stemming: keeping the root of the word but stripping things like ing, ed etc. More for large data</li>\n",
    "    <li>Lemmatization: Alternative to stemming by assinging to the same root. more taxing of resources than stemming</li>\n",
    "    <li>Lowercasing: could be bad in cases where the name turns into a verb like \"Mark\" and \"mark\"</li>\n",
    "\n",
    "</ol>"
   ],
   "cell_type": "markdown",
   "metadata": {}
  },
  {
   "cell_type": "code",
   "execution_count": 48,
   "metadata": {},
   "outputs": [],
   "source": [
    "import nltk\n",
    "import re\n",
    "from nltk.corpus import stopwords\n",
    "from nltk.stem.porter import PorterStemmer"
   ]
  },
  {
   "cell_type": "code",
   "execution_count": 49,
   "metadata": {},
   "outputs": [],
   "source": [
    "ps = PorterStemmer()"
   ]
  },
  {
   "cell_type": "code",
   "execution_count": 50,
   "metadata": {},
   "outputs": [
    {
     "output_type": "stream",
     "name": "stdout",
     "text": [
      "153\n['i', 'me', 'my', 'myself', 'we', 'our', 'ours', 'ourselves', 'you', 'your']\n"
     ]
    }
   ],
   "source": [
    "stop_words = stopwords.words(\"english\")\n",
    "print(len(stop_words))\n",
    "print(stop_words[:10])"
   ]
  },
  {
   "cell_type": "code",
   "execution_count": 51,
   "metadata": {},
   "outputs": [],
   "source": [
    "# # 1. Tokenization\n",
    "# df['tokens'] = df.v2.str.split(\" \")\n",
    "# df.head()"
   ]
  },
  {
   "cell_type": "code",
   "execution_count": 55,
   "metadata": {},
   "outputs": [],
   "source": [
    "def remove_stopwords(text):\n",
    "    \"\"\"Function to replace stopords with an empty space and removes double spaces\n",
    "    removing all chars other then alphabet and stemming words\n",
    "    \n",
    "    returns: corpus of stemmed words\"\"\"\n",
    "\n",
    "    text = re.sub('^a-zA-Z',' ',text)\n",
    "    text = text.split()\n",
    "    text = [ps.stem(word) for word in text if word not in stop_words]\n",
    "    text = ' '.join(text).replace('  ', ' ')\n",
    "    return text\n"
   ]
  },
  {
   "cell_type": "code",
   "execution_count": 56,
   "metadata": {},
   "outputs": [],
   "source": [
    "df[\"removed_stopwords\"]= df.v2.apply(remove_stopwords)"
   ]
  },
  {
   "cell_type": "code",
   "execution_count": 57,
   "metadata": {},
   "outputs": [
    {
     "output_type": "execute_result",
     "data": {
      "text/plain": [
       "        v1                                                 v2  \\\n",
       "0      ham  Go until jurong point, crazy.. Available only ...   \n",
       "1      ham                      Ok lar... Joking wif u oni...   \n",
       "2     spam  Free entry in 2 a wkly comp to win FA Cup fina...   \n",
       "3      ham  U dun say so early hor... U c already then say...   \n",
       "4      ham  Nah I don't think he goes to usf, he lives aro...   \n",
       "...    ...                                                ...   \n",
       "5567  spam  This is the 2nd time we have tried 2 contact u...   \n",
       "5568   ham              Will Ì_ b going to esplanade fr home?   \n",
       "5569   ham  Pity, * was in mood for that. So...any other s...   \n",
       "5570   ham  The guy did some bitching but I acted like i'd...   \n",
       "5571   ham                         Rofl. Its true to its name   \n",
       "\n",
       "                                      removed_stopwords  \n",
       "0     Go jurong point, crazy.. avail bugi n great wo...  \n",
       "1                           Ok lar... joke wif u oni...  \n",
       "2     free entri 2 wkli comp win FA cup final tkt 21...  \n",
       "3             U dun say earli hor... U c alreadi say...  \n",
       "4         nah I don't think goe usf, live around though  \n",
       "...                                                 ...  \n",
       "5567  thi 2nd time tri 2 contact u. U å£750 pound pr...  \n",
       "5568                     will Ì_ b go esplanad fr home?  \n",
       "5569           pity, * mood that. so...ani suggestions?  \n",
       "5570  the guy bitch I act like i'd interest buy some...  \n",
       "5571                                 rofl. it true name  \n",
       "\n",
       "[5572 rows x 3 columns]"
      ],
      "text/html": "<div>\n<style scoped>\n    .dataframe tbody tr th:only-of-type {\n        vertical-align: middle;\n    }\n\n    .dataframe tbody tr th {\n        vertical-align: top;\n    }\n\n    .dataframe thead th {\n        text-align: right;\n    }\n</style>\n<table border=\"1\" class=\"dataframe\">\n  <thead>\n    <tr style=\"text-align: right;\">\n      <th></th>\n      <th>v1</th>\n      <th>v2</th>\n      <th>removed_stopwords</th>\n    </tr>\n  </thead>\n  <tbody>\n    <tr>\n      <th>0</th>\n      <td>ham</td>\n      <td>Go until jurong point, crazy.. Available only ...</td>\n      <td>Go jurong point, crazy.. avail bugi n great wo...</td>\n    </tr>\n    <tr>\n      <th>1</th>\n      <td>ham</td>\n      <td>Ok lar... Joking wif u oni...</td>\n      <td>Ok lar... joke wif u oni...</td>\n    </tr>\n    <tr>\n      <th>2</th>\n      <td>spam</td>\n      <td>Free entry in 2 a wkly comp to win FA Cup fina...</td>\n      <td>free entri 2 wkli comp win FA cup final tkt 21...</td>\n    </tr>\n    <tr>\n      <th>3</th>\n      <td>ham</td>\n      <td>U dun say so early hor... U c already then say...</td>\n      <td>U dun say earli hor... U c alreadi say...</td>\n    </tr>\n    <tr>\n      <th>4</th>\n      <td>ham</td>\n      <td>Nah I don't think he goes to usf, he lives aro...</td>\n      <td>nah I don't think goe usf, live around though</td>\n    </tr>\n    <tr>\n      <th>...</th>\n      <td>...</td>\n      <td>...</td>\n      <td>...</td>\n    </tr>\n    <tr>\n      <th>5567</th>\n      <td>spam</td>\n      <td>This is the 2nd time we have tried 2 contact u...</td>\n      <td>thi 2nd time tri 2 contact u. U å£750 pound pr...</td>\n    </tr>\n    <tr>\n      <th>5568</th>\n      <td>ham</td>\n      <td>Will Ì_ b going to esplanade fr home?</td>\n      <td>will Ì_ b go esplanad fr home?</td>\n    </tr>\n    <tr>\n      <th>5569</th>\n      <td>ham</td>\n      <td>Pity, * was in mood for that. So...any other s...</td>\n      <td>pity, * mood that. so...ani suggestions?</td>\n    </tr>\n    <tr>\n      <th>5570</th>\n      <td>ham</td>\n      <td>The guy did some bitching but I acted like i'd...</td>\n      <td>the guy bitch I act like i'd interest buy some...</td>\n    </tr>\n    <tr>\n      <th>5571</th>\n      <td>ham</td>\n      <td>Rofl. Its true to its name</td>\n      <td>rofl. it true name</td>\n    </tr>\n  </tbody>\n</table>\n<p>5572 rows × 3 columns</p>\n</div>"
     },
     "metadata": {},
     "execution_count": 57
    }
   ],
   "source": [
    "df"
   ]
  },
  {
   "cell_type": "code",
   "execution_count": null,
   "metadata": {},
   "outputs": [],
   "source": [
    "# building pipeline"
   ]
  }
 ]
}