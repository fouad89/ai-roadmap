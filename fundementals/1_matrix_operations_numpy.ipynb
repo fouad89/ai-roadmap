{
  "nbformat": 4,
  "nbformat_minor": 0,
  "metadata": {
    "colab": {
      "name": "1_matrix-operations-numpy.ipynb",
      "provenance": []
    },
    "kernelspec": {
      "name": "python3",
      "display_name": "Python 3"
    },
    "language_info": {
      "name": "python"
    }
  },
  "cells": [
    {
      "cell_type": "markdown",
      "metadata": {
        "id": "PVe3kgcF2j_m"
      },
      "source": [
        "Introduction to Numpy arrays & Matrix operations"
      ]
    },
    {
      "cell_type": "code",
      "metadata": {
        "id": "3Hzbxd-60x8Q"
      },
      "source": [
        "import numpy as np\n",
        "import sys"
      ],
      "execution_count": 1,
      "outputs": []
    },
    {
      "cell_type": "code",
      "metadata": {
        "id": "kxRGWJvF2_v0"
      },
      "source": [
        "# a class to show the matrix and its shape\n",
        "class Results:\n",
        "  def __init__(self, m):\n",
        "    self.m = m # matrix\n",
        "\n",
        "\n",
        "  def show_results(self):\n",
        "    print(f\"The matrix is:\\n{self.m}\\n\")\n",
        "    print(f\"The shape:\\n{self.m.shape}\\n\")\n",
        "    print(f'The Dimensions: {self.m.ndim}')\n",
        "    print(f'Data Type: {self.m.dtype}')\n",
        "    print(f'Total Size: {self.m.nbytes} bites')\n",
        "\n"
      ],
      "execution_count": 2,
      "outputs": []
    },
    {
      "cell_type": "code",
      "metadata": {
        "colab": {
          "base_uri": "https://localhost:8080/"
        },
        "id": "FTXEz7UR2iwn",
        "outputId": "7fedd6d8-0996-4f93-89c5-b0d741484c76"
      },
      "source": [
        "a = np.array([1,2,3], dtype='int32')\n",
        "\n",
        "Results(a).show_results()\n"
      ],
      "execution_count": 3,
      "outputs": [
        {
          "output_type": "stream",
          "text": [
            "The matrix is:\n",
            "[1 2 3]\n",
            "\n",
            "The shape:\n",
            "(3,)\n",
            "\n",
            "The Dimensions: 1\n",
            "Data Type: int32\n",
            "Total Size: 12 bites\n"
          ],
          "name": "stdout"
        }
      ]
    },
    {
      "cell_type": "code",
      "metadata": {
        "colab": {
          "base_uri": "https://localhost:8080/"
        },
        "id": "Wvn3f59H316K",
        "outputId": "7d7c47d1-390b-447f-b0c5-5cc163598692"
      },
      "source": [
        "b = np.array(np.arange(9), dtype='float32').reshape(3,3)\n",
        "Results(b).show_results()"
      ],
      "execution_count": 4,
      "outputs": [
        {
          "output_type": "stream",
          "text": [
            "The matrix is:\n",
            "[[0. 1. 2.]\n",
            " [3. 4. 5.]\n",
            " [6. 7. 8.]]\n",
            "\n",
            "The shape:\n",
            "(3, 3)\n",
            "\n",
            "The Dimensions: 2\n",
            "Data Type: float32\n",
            "Total Size: 36 bites\n"
          ],
          "name": "stdout"
        }
      ]
    },
    {
      "cell_type": "code",
      "metadata": {
        "id": "5UZ-Y6q-34BI"
      },
      "source": [
        ""
      ],
      "execution_count": 4,
      "outputs": []
    },
    {
      "cell_type": "markdown",
      "metadata": {
        "id": "yzY9IYpjEs-V"
      },
      "source": [
        "## Slicing"
      ]
    },
    {
      "cell_type": "code",
      "metadata": {
        "colab": {
          "base_uri": "https://localhost:8080/"
        },
        "id": "maAXCbTLEfwU",
        "outputId": "a04599a0-8346-40dc-cbce-b4b0ffa2f6cb"
      },
      "source": [
        "c = np.array(np.arange(1,15)).reshape(2,7)\n",
        "\n",
        "Results(c).show_results()"
      ],
      "execution_count": 5,
      "outputs": [
        {
          "output_type": "stream",
          "text": [
            "The matrix is:\n",
            "[[ 1  2  3  4  5  6  7]\n",
            " [ 8  9 10 11 12 13 14]]\n",
            "\n",
            "The shape:\n",
            "(2, 7)\n",
            "\n",
            "The Dimensions: 2\n",
            "Data Type: int64\n",
            "Total Size: 112 bites\n"
          ],
          "name": "stdout"
        }
      ]
    },
    {
      "cell_type": "code",
      "metadata": {
        "colab": {
          "base_uri": "https://localhost:8080/"
        },
        "id": "qKZcn7CIE5_x",
        "outputId": "d739d9b9-d6c3-4eb2-9f2a-a43c02d62e64"
      },
      "source": [
        "print(f\"row 1, column 2:\\n {c[1,2]}\") \n",
        "print(f\"first 2 rows, first 2 columns \\n{c[:2, :2]}\")\n",
        "print(f'last 2 rows, last 2 columns \\n{c[-2:,-2:]}')\n",
        "print(f'first column only \\n{c[:,0]}')\n",
        "print(f'first row only \\n{c[0,:]}')\n",
        "print(f'last row only \\n{c[-1,:]}')"
      ],
      "execution_count": 6,
      "outputs": [
        {
          "output_type": "stream",
          "text": [
            "row 1, column 2:\n",
            " 10\n",
            "first 2 rows, first 2 columns \n",
            "[[1 2]\n",
            " [8 9]]\n",
            "last 2 rows, last 2 columns \n",
            "[[ 6  7]\n",
            " [13 14]]\n",
            "first column only \n",
            "[1 8]\n",
            "first row only \n",
            "[1 2 3 4 5 6 7]\n",
            "last row only \n",
            "[ 8  9 10 11 12 13 14]\n"
          ],
          "name": "stdout"
        }
      ]
    },
    {
      "cell_type": "markdown",
      "metadata": {
        "id": "qDjU6neMHL3M"
      },
      "source": [
        "## Special Arrays"
      ]
    },
    {
      "cell_type": "code",
      "metadata": {
        "colab": {
          "base_uri": "https://localhost:8080/"
        },
        "id": "0xWWNdyFE8Tt",
        "outputId": "8f6001ec-32a6-4861-d504-a02ad41a13e8"
      },
      "source": [
        "np.zeros(shape=(2,2))"
      ],
      "execution_count": 7,
      "outputs": [
        {
          "output_type": "execute_result",
          "data": {
            "text/plain": [
              "array([[0., 0.],\n",
              "       [0., 0.]])"
            ]
          },
          "metadata": {
            "tags": []
          },
          "execution_count": 7
        }
      ]
    },
    {
      "cell_type": "code",
      "metadata": {
        "colab": {
          "base_uri": "https://localhost:8080/"
        },
        "id": "em36o6HbHTh2",
        "outputId": "d1158819-70c4-4766-aa8c-77c80e9e8d95"
      },
      "source": [
        "np.ones(shape=(3,3))"
      ],
      "execution_count": 8,
      "outputs": [
        {
          "output_type": "execute_result",
          "data": {
            "text/plain": [
              "array([[1., 1., 1.],\n",
              "       [1., 1., 1.],\n",
              "       [1., 1., 1.]])"
            ]
          },
          "metadata": {
            "tags": []
          },
          "execution_count": 8
        }
      ]
    },
    {
      "cell_type": "code",
      "metadata": {
        "colab": {
          "base_uri": "https://localhost:8080/"
        },
        "id": "a73YIxvzKYVx",
        "outputId": "44638c1e-29e4-4726-ea56-865dfd7027ce"
      },
      "source": [
        "np.identity(3)"
      ],
      "execution_count": 9,
      "outputs": [
        {
          "output_type": "execute_result",
          "data": {
            "text/plain": [
              "array([[1., 0., 0.],\n",
              "       [0., 1., 0.],\n",
              "       [0., 0., 1.]])"
            ]
          },
          "metadata": {
            "tags": []
          },
          "execution_count": 9
        }
      ]
    },
    {
      "cell_type": "code",
      "metadata": {
        "colab": {
          "base_uri": "https://localhost:8080/"
        },
        "id": "a9tsCpijHXpr",
        "outputId": "51716ed4-e05f-43b6-a74f-eb3c118de36e"
      },
      "source": [
        "np.tri(3)"
      ],
      "execution_count": 10,
      "outputs": [
        {
          "output_type": "execute_result",
          "data": {
            "text/plain": [
              "array([[1., 0., 0.],\n",
              "       [1., 1., 0.],\n",
              "       [1., 1., 1.]])"
            ]
          },
          "metadata": {
            "tags": []
          },
          "execution_count": 10
        }
      ]
    },
    {
      "cell_type": "code",
      "metadata": {
        "colab": {
          "base_uri": "https://localhost:8080/"
        },
        "id": "z3B0ZNZAHjiI",
        "outputId": "9498a335-1f12-4520-bcce-52eade0cb440"
      },
      "source": [
        "np.full(shape=(2,2), fill_value=3)"
      ],
      "execution_count": 11,
      "outputs": [
        {
          "output_type": "execute_result",
          "data": {
            "text/plain": [
              "array([[3, 3],\n",
              "       [3, 3]])"
            ]
          },
          "metadata": {
            "tags": []
          },
          "execution_count": 11
        }
      ]
    },
    {
      "cell_type": "code",
      "metadata": {
        "colab": {
          "base_uri": "https://localhost:8080/"
        },
        "id": "ODZnFC2IHomj",
        "outputId": "4f3dc851-ff9d-4301-b8d7-9c3e4f79a3c2"
      },
      "source": [
        "np.full_like(a=c, fill_value=1)"
      ],
      "execution_count": 12,
      "outputs": [
        {
          "output_type": "execute_result",
          "data": {
            "text/plain": [
              "array([[1, 1, 1, 1, 1, 1, 1],\n",
              "       [1, 1, 1, 1, 1, 1, 1]])"
            ]
          },
          "metadata": {
            "tags": []
          },
          "execution_count": 12
        }
      ]
    },
    {
      "cell_type": "code",
      "metadata": {
        "colab": {
          "base_uri": "https://localhost:8080/"
        },
        "id": "4K-zpD0HH6sa",
        "outputId": "f1c130e6-89f2-4c6c-c698-835b79f49d83"
      },
      "source": [
        "np.zeros_like(a=c)"
      ],
      "execution_count": 13,
      "outputs": [
        {
          "output_type": "execute_result",
          "data": {
            "text/plain": [
              "array([[0, 0, 0, 0, 0, 0, 0],\n",
              "       [0, 0, 0, 0, 0, 0, 0]])"
            ]
          },
          "metadata": {
            "tags": []
          },
          "execution_count": 13
        }
      ]
    },
    {
      "cell_type": "markdown",
      "metadata": {
        "id": "sDIKAA8xJCgr"
      },
      "source": [
        "## Random Numbers"
      ]
    },
    {
      "cell_type": "code",
      "metadata": {
        "colab": {
          "base_uri": "https://localhost:8080/"
        },
        "id": "9XyOh1QaI5kh",
        "outputId": "956f2002-577a-46ba-93b9-16e04854ed9a"
      },
      "source": [
        "rand_1 = np.random.rand(2,3) # values between 0 and 1\n",
        "Results(rand_1).show_results()"
      ],
      "execution_count": 14,
      "outputs": [
        {
          "output_type": "stream",
          "text": [
            "The matrix is:\n",
            "[[0.6423395  0.55679583 0.92608543]\n",
            " [0.84100816 0.27346311 0.69774307]]\n",
            "\n",
            "The shape:\n",
            "(2, 3)\n",
            "\n",
            "The Dimensions: 2\n",
            "Data Type: float64\n",
            "Total Size: 48 bites\n"
          ],
          "name": "stdout"
        }
      ]
    },
    {
      "cell_type": "code",
      "metadata": {
        "colab": {
          "base_uri": "https://localhost:8080/"
        },
        "id": "YJrM7IYlJL0e",
        "outputId": "fc1c22aa-137f-47a0-b903-29b063ccdca1"
      },
      "source": [
        "rand_2 = np.random.randint(low=0,high=9, size=(3,3)) # random ints\n",
        "Results(rand_2).show_results()"
      ],
      "execution_count": 15,
      "outputs": [
        {
          "output_type": "stream",
          "text": [
            "The matrix is:\n",
            "[[3 6 3]\n",
            " [3 1 8]\n",
            " [1 0 8]]\n",
            "\n",
            "The shape:\n",
            "(3, 3)\n",
            "\n",
            "The Dimensions: 2\n",
            "Data Type: int64\n",
            "Total Size: 72 bites\n"
          ],
          "name": "stdout"
        }
      ]
    },
    {
      "cell_type": "code",
      "metadata": {
        "id": "0oEt00ITJeRk"
      },
      "source": [
        "# creating an array example\n",
        "arr = np.zeros(shape=(5,5), dtype='int8')"
      ],
      "execution_count": 16,
      "outputs": []
    },
    {
      "cell_type": "code",
      "metadata": {
        "id": "bUWRSRbFLSg7"
      },
      "source": [
        "arr[0,:] = 1 # first row\n",
        "arr[-1,:] = 1 # last row\n",
        "arr[:,0] = 1 # first col\n",
        "arr[:,-1] = 1 # last col\n",
        "arr[2,2] = 9 # center of matrix"
      ],
      "execution_count": 17,
      "outputs": []
    },
    {
      "cell_type": "code",
      "metadata": {
        "id": "PH7U_H_8MSGh"
      },
      "source": [
        ""
      ],
      "execution_count": 17,
      "outputs": []
    },
    {
      "cell_type": "code",
      "metadata": {
        "colab": {
          "base_uri": "https://localhost:8080/"
        },
        "id": "KxcrP0SGLfCK",
        "outputId": "a472dd90-6b12-400f-ea47-02e3d255c9f9"
      },
      "source": [
        "arr"
      ],
      "execution_count": 18,
      "outputs": [
        {
          "output_type": "execute_result",
          "data": {
            "text/plain": [
              "array([[1, 1, 1, 1, 1],\n",
              "       [1, 0, 0, 0, 1],\n",
              "       [1, 0, 9, 0, 1],\n",
              "       [1, 0, 0, 0, 1],\n",
              "       [1, 1, 1, 1, 1]], dtype=int8)"
            ]
          },
          "metadata": {
            "tags": []
          },
          "execution_count": 18
        }
      ]
    },
    {
      "cell_type": "markdown",
      "metadata": {
        "id": "HHnCSY8iMTR7"
      },
      "source": [
        "## Linear Algebra"
      ]
    },
    {
      "cell_type": "code",
      "metadata": {
        "colab": {
          "base_uri": "https://localhost:8080/"
        },
        "id": "ZO3TDhilLfp7",
        "outputId": "1c5cd3b2-59f9-4e28-bad2-c763c672539e"
      },
      "source": [
        "a = np.full(shape=(2,3), fill_value=2)\n",
        "b = np.full(shape=(3,2), fill_value=3)\n",
        "\n",
        "Results(a).show_results()\n",
        "Results(b).show_results()\n"
      ],
      "execution_count": 19,
      "outputs": [
        {
          "output_type": "stream",
          "text": [
            "The matrix is:\n",
            "[[2 2 2]\n",
            " [2 2 2]]\n",
            "\n",
            "The shape:\n",
            "(2, 3)\n",
            "\n",
            "The Dimensions: 2\n",
            "Data Type: int64\n",
            "Total Size: 48 bites\n",
            "The matrix is:\n",
            "[[3 3]\n",
            " [3 3]\n",
            " [3 3]]\n",
            "\n",
            "The shape:\n",
            "(3, 2)\n",
            "\n",
            "The Dimensions: 2\n",
            "Data Type: int64\n",
            "Total Size: 48 bites\n"
          ],
          "name": "stdout"
        }
      ]
    },
    {
      "cell_type": "code",
      "metadata": {
        "colab": {
          "base_uri": "https://localhost:8080/"
        },
        "id": "eXN5FvmTMuFl",
        "outputId": "d8ae3ab5-0acb-4c54-ee56-cdc8072e8ca2"
      },
      "source": [
        "# multiplication\n",
        "np.matmul(a,b)"
      ],
      "execution_count": 20,
      "outputs": [
        {
          "output_type": "execute_result",
          "data": {
            "text/plain": [
              "array([[18, 18],\n",
              "       [18, 18]])"
            ]
          },
          "metadata": {
            "tags": []
          },
          "execution_count": 20
        }
      ]
    },
    {
      "cell_type": "code",
      "metadata": {
        "colab": {
          "base_uri": "https://localhost:8080/"
        },
        "id": "vZ_ulR-jMxS-",
        "outputId": "8be51741-4d96-40f4-f648-6d4b7c7f3073"
      },
      "source": [
        "np.matmul(a, a.T)"
      ],
      "execution_count": 21,
      "outputs": [
        {
          "output_type": "execute_result",
          "data": {
            "text/plain": [
              "array([[12, 12],\n",
              "       [12, 12]])"
            ]
          },
          "metadata": {
            "tags": []
          },
          "execution_count": 21
        }
      ]
    },
    {
      "cell_type": "code",
      "metadata": {
        "id": "PL56uNUmNLrU"
      },
      "source": [
        ""
      ],
      "execution_count": 21,
      "outputs": []
    }
  ]
}